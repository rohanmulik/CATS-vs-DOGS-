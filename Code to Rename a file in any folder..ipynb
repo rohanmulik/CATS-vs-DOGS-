{
 "cells": [
  {
   "cell_type": "code",
   "execution_count": 1,
   "metadata": {},
   "outputs": [],
   "source": [
    "import os"
   ]
  },
  {
   "cell_type": "code",
   "execution_count": null,
   "metadata": {},
   "outputs": [],
   "source": [
    "dst = \"Fighting\"+\".jpeg\"\n",
    "src = '../CatsvsDogscode/'+'CatsvsDogscodeFighting.jpeg'\n",
    "dst = ''+dst\n",
    "os.rename(src, dst)\n",
    "\n",
    "\n",
    "#This is used to rename random file names\n",
    "# IF WE HAVE TO RENAME MANY FILES THEN WE JUST LOOP OVER FILENAME \n",
    "#for filename  in os.listdir(\"path\"):\n",
    "\n",
    "#THE BELOW CODE IS USED TO RENAME A SPECIFIED FILE IN WHICH WE REPLACE A PART OF FILENAME\n",
    "\n",
    "n = \"../CatsvsDogscode/1_T_4A188jojJiyhHVBFZZlg.jpeg\"\n",
    "\n",
    "os.rename(\"../CatsvsDogscode/1_T_4A188jojJiyhHVBFZZlg.jpeg\",n.replace(\"_\",\"1\",1))\n",
    "\n",
    "#THE FIRST PART IS PATH OF FILE WHOSE NAME WE WANT TO CHANGE. THE SECOND IS WHAT WE ARE GOING TO  REPLACE."
   ]
  }
 ],
 "metadata": {
  "kernelspec": {
   "display_name": "Python 3",
   "language": "python",
   "name": "python3"
  },
  "language_info": {
   "codemirror_mode": {
    "name": "ipython",
    "version": 3
   },
   "file_extension": ".py",
   "mimetype": "text/x-python",
   "name": "python",
   "nbconvert_exporter": "python",
   "pygments_lexer": "ipython3",
   "version": "3.7.1"
  }
 },
 "nbformat": 4,
 "nbformat_minor": 2
}
